{
 "cells": [
  {
   "cell_type": "markdown",
   "metadata": {
    "slideshow": {
     "slide_type": "slide"
    }
   },
   "source": [
    "# HOW TO SPEAK GUAPANESE\n",
    "\n",
    "## AKA LET-US GET THIS LETTUCE\n",
    "\n",
    "## AKAKA the basics of financial assets and how to become an investor\n",
    "\n",
    "### School of Continuing Buddies"
   ]
  },
  {
   "cell_type": "markdown",
   "metadata": {
    "slideshow": {
     "slide_type": "slide"
    }
   },
   "source": [
    "# Goal\n",
    "provide a baseline understanding of financial assets and investing so you can think about what to invest in, how to invest, and why you should (or should not) invest\n",
    "\n",
    "all in 15 mins! sooo a lot of hand waving\n",
    "\n",
    "![money](moneyman.jpg)"
   ]
  },
  {
   "cell_type": "markdown",
   "metadata": {
    "slideshow": {
     "slide_type": "slide"
    }
   },
   "source": [
    "## DISCLAIMER\n",
    "\n",
    "## THIS IS NOT INVESTMENT ADVICE\n",
    "\n",
    "## THE PERSON PRESENTING IS NOT QUALIFIED OR LICENSED TO LEGALLY GIVE INVESTMENT ADVICE, AND THE INFORMATION CONTAINED HERE SHOULD NOT BE CONSTRUED AS SUCH\n",
    "\n",
    "## THIS INFORMATION IS STRICTLY FOR EDUCATIONALY PURPOSES ONLY"
   ]
  },
  {
   "cell_type": "markdown",
   "metadata": {
    "slideshow": {
     "slide_type": "slide"
    }
   },
   "source": [
    "# Outline\n",
    "1. Financial Assets\n",
    "  * stocks\n",
    "  * bonds\n",
    "  * fundamental theorem of finance **<- some math**\n",
    "\n",
    "2. Investing **<- some math**\n",
    "  * constructing a portfolio\n",
    "  * benefits of diversification\n",
    "  * risk, return, and risk adjusted return\n",
    "\n",
    "3. So What Should **You** do?\n",
    "  * index funds. mutual funds\n",
    "  * open an account and invest\n",
    "  * key takeaways\n",
    "\n",
    "4. Resources"
   ]
  },
  {
   "cell_type": "markdown",
   "metadata": {
    "slideshow": {
     "slide_type": "slide"
    }
   },
   "source": [
    "# 1. Financial Assets\n",
    "\n",
    "financial assets are things you own that entitle you to cash flow - just by owning them. \n",
    "\n",
    "they differ from other physical assets like a car or a home which are used to do things which may or may not ultiamtey bring in money.\n",
    "\n",
    "if you want to make money from your car, you have to drive ppl around for uber!\n",
    "if you want to make money at your job you have to work!\n",
    "if you want to make money with a finnanical asset you have to sit on your A$$! **and** assume risk."
   ]
  },
  {
   "cell_type": "markdown",
   "metadata": {
    "slideshow": {
     "slide_type": "subslide"
    }
   },
   "source": [
    "## Stocks\n",
    "* represent piece of ownership of a company.\n",
    "* why do you want ownership? Profits Of course!\n",
    "* risky - if company makes no profits, you get no profits. If company goes bankrupt you're SOL."
   ]
  },
  {
   "cell_type": "markdown",
   "metadata": {
    "slideshow": {
     "slide_type": "subslide"
    }
   },
   "source": [
    "## Bonds\n",
    "* a tradable loan. principal, interest, maturity.\n",
    "* less risky than stocks. Companies must pay interest on debt before they can take profits.\n",
    "* if a compnay goes bankrupt, or defaults on a payment you have more rights to money from selling company assets than stock holders.\n"
   ]
  },
  {
   "cell_type": "markdown",
   "metadata": {
    "slideshow": {
     "slide_type": "subslide"
    }
   },
   "source": [
    "## Fundamental Theorem of Finance\n",
    "* how much would you pay for 100 bones 1 year from now? how much if you had a 50\\% chance of getting the 100 bones 1 year from now?\n",
    "* A financial asset is worth all the **expected** future money it's supposed to pay you (discounted).\n",
    "  * time value of money.\n",
    "* for stocks this is (theoretically) all the future profits.\n",
    "* for bonds this is all the future coupons (interest payments) and principal."
   ]
  },
  {
   "cell_type": "markdown",
   "metadata": {
    "slideshow": {
     "slide_type": "subslide"
    }
   },
   "source": [
    "![Some Math](dcf.png)"
   ]
  },
  {
   "cell_type": "markdown",
   "metadata": {
    "slideshow": {
     "slide_type": "subslide"
    }
   },
   "source": [
    "## The price of a financial asset represents the expectation of investors about money they will be payed\n",
    "\n",
    "investors like guaranteed money. the riskier the company, the more the company has to pay investors to compensate them for the greater risk they're taking.\n",
    "  * for equity investors (stock holders) this compensation is in the form of future profits.\n",
    "  * for debt investors (bond holders) this compensation is in the form of interest.\n",
    "\n",
    "the more uncertainy around how much money you're getting the more you need to guarantee investors to compensate them.\n",
    "\n",
    "investors **don't like uncertainty**"
   ]
  },
  {
   "cell_type": "markdown",
   "metadata": {
    "slideshow": {
     "slide_type": "subslide"
    }
   },
   "source": [
    "## Case Study: Coronavirus\n",
    "\n",
    "1. economy shuts down\n",
    "2. demand goes down, business are making much less money, many making no money at all!\n",
    "3. if no demand, what happens to profits? **DOWN**\n",
    "4. according to the fundamental theorem of finance, price of a stock represents the future profits.\n",
    "5. so what happens to stock prices? **DOWN**\n",
    "6. so what happens to economy? **DOWN**\n",
    "\n",
    "![sad](sad.png)\n"
   ]
  },
  {
   "cell_type": "markdown",
   "metadata": {
    "slideshow": {
     "slide_type": "slide"
    }
   },
   "source": [
    "# 2. Investing\n",
    "\n",
    "now that we know what stocks and bonds are how should we think about combining them into a portfolio?"
   ]
  },
  {
   "cell_type": "markdown",
   "metadata": {
    "slideshow": {
     "slide_type": "subslide"
    }
   },
   "source": [
    "## Constructing a Portfolio\n",
    "if you have 50% of your'e money in apple and it goes up by 5% over the year, and 50% in Microsoft and it goes up by 10% then your'e total portfolio goes up by 7.5%: \n",
    "\n",
    "(50% X 5%) + (50% X 10%) = 7.5%"
   ]
  },
  {
   "cell_type": "markdown",
   "metadata": {
    "slideshow": {
     "slide_type": "subslide"
    }
   },
   "source": [
    "## Benefits of Diversification\n",
    "Don't put all you're eggs in 1 basket!\n",
    "If you invest in 2 stocks that are lowly correlated but go up overtime, then when one is down hopefully the other will be up! and vice-versa and your overal portfolio return will be smoothed out"
   ]
  },
  {
   "cell_type": "markdown",
   "metadata": {
    "slideshow": {
     "slide_type": "subslide"
    }
   },
   "source": [
    "## The Combined Portfolio Has Lower Volatility\n",
    "\n",
    "![diversification](diversification.png)"
   ]
  },
  {
   "cell_type": "markdown",
   "metadata": {
    "slideshow": {
     "slide_type": "subslide"
    }
   },
   "source": [
    "## Risk, Return, Risk Adjsuted Return\n",
    "Lots of ways to think about risk. One tangible way is by how much the asset bounces around on its way to its destination\n",
    "  > measured statistically as the spread (standard deviation) of the price movements, also called **volatility**\n",
    "  \n",
    "  > the more volatile an asset is the greater probability that it could be low when you want to sell it. **BAD!**\n",
    "  \n",
    "risk adjusted return is the return / volatility. higher is better! it means the asset bounced around less on its way to its final destination.\n",
    "  > **Benefits of Diversification Again** - by combining asssets with low correlation, smoothing the retuens means reducing the volatility -> increase risk adjusted returns. **GOOD**!"
   ]
  },
  {
   "cell_type": "markdown",
   "metadata": {
    "slideshow": {
     "slide_type": "subslide"
    }
   },
   "source": [
    "## Simulations of same returns but different volatilities\n",
    "![vol comparison](vol_comparison_2.png)\n"
   ]
  },
  {
   "cell_type": "markdown",
   "metadata": {
    "slideshow": {
     "slide_type": "subslide"
    }
   },
   "source": [
    "## Sharpe Ratio Revisited\n",
    "\n",
    "Thing in in terms of statistics / information theory / human competency Sharpe Ratio \n",
    "\n",
    "### = (return / risk)\n",
    "\n",
    "### = (signal / noise)\n",
    "             \n",
    "### = (skill / luck)\n",
    "\n",
    "If you have 1 year history of returns and they're high (say 10%) but volatility is really high (say 80%) then from a statistical standpoint the price moved around sooo much it easily could have ended up at -10%.\n",
    "\n",
    "> with a high volatility and short history, you can't disprove the assumption that the manager just got lucky!\n",
    "\n",
    "or putting our statistician's hat on...\n",
    "\n",
    "> with a high standard error (due to a high sample standard deviation and/or a small sample size) we can't disprove the null hypothesis that the mean of the distribution of returns is zero at a statistically significanat level."
   ]
  },
  {
   "cell_type": "markdown",
   "metadata": {
    "slideshow": {
     "slide_type": "slide"
    }
   },
   "source": [
    "# 3. So What Should **You** do?\n",
    "\n",
    "how can you take advantage of all this information? \n",
    "\n",
    "invest in the market, via passive funds. eschew active funds.\n"
   ]
  },
  {
   "cell_type": "markdown",
   "metadata": {
    "slideshow": {
     "slide_type": "subslide"
    }
   },
   "source": [
    "## DISCLAIMER\n",
    "\n",
    "## THIS IS NOT INVESTMENT ADVICE\n",
    "\n",
    "## THE PERSON PRESENTING IS NOT QUALIFIED OR LICENSED TO LEGALLY GIVE INVESTMENT ADVICE, AND THE INFORMATION CONTAINED HERE SHOULD NOT BE CONSTRUED AS SUCH\n",
    "\n",
    "## THIS INFORMATION IS STRICTLY FOR EDUCATIONALY PURPOSES ONLY"
   ]
  },
  {
   "cell_type": "markdown",
   "metadata": {
    "slideshow": {
     "slide_type": "subslide"
    }
   },
   "source": [
    "## Index Fund/ETF\n",
    "they invest in the braod market.\n",
    "\n",
    "they allocates money to assets according to big they are (how much of the market they take up)\n",
    "> so for example a US Index fund would invest most in Microsoft since its the biggest, then the second most in Amazon since its the second biggest etc.\n",
    "\n",
    "they have index funds for bonds too. but you should be invested mostly in stocks since their riskier, but historically generate higher returns\n",
    "\n",
    "Index funds have better returns and better sharpe than actively managed funds (mutual funds and hedge funds)"
   ]
  },
  {
   "cell_type": "markdown",
   "metadata": {
    "slideshow": {
     "slide_type": "subslide"
    }
   },
   "source": [
    "## US Market + Income\n",
    "![US Market](mkt_heatmap.png)"
   ]
  },
  {
   "cell_type": "markdown",
   "metadata": {
    "slideshow": {
     "slide_type": "subslide"
    }
   },
   "source": [
    "## Active Funds Lose Money\n",
    "\n",
    "![active loses](active_vs_passive.png)"
   ]
  },
  {
   "cell_type": "markdown",
   "metadata": {
    "slideshow": {
     "slide_type": "subslide"
    }
   },
   "source": [
    "## Actionable Steps\n",
    "1. Go to your bank,ask to open up a brokerage account (how you buy and sell financial assets).\n",
    "2. Or Open up an account with Charles Schwab, they're good and don't charge fees to trade\n",
    "3. Ask Your broker, or submit the order through their website, to buy Fidelity US Index ETF\n",
    "> symbol is **FZROX** and they charge you a ZERO PERCENT FEE for managing your money\n",
    "> can also ask for **SPY** which was the very first ETF and started in 1993.\n",
    "4. Invest a little bit every month\n",
    "5. Sit back and relax and let the $ roll in"
   ]
  },
  {
   "cell_type": "markdown",
   "metadata": {
    "slideshow": {
     "slide_type": "subslide"
    }
   },
   "source": [
    "## DISCLAIMER\n",
    "\n",
    "## THIS IS NOT INVESTMENT ADVICE\n",
    "\n",
    "## THE PERSON PRESENTING IS NOT QUALIFIED OR LICENSED TO LEGALLY GIVE INVESTMENT ADVICE, AND THE INFORMATION CONTAINED HERE SHOULD NOT BE CONSTRUED AS SUCH\n",
    "\n",
    "## THIS INFORMATION IS STRICTLY FOR EDUCATIONAL PURPOSES ONLY"
   ]
  },
  {
   "cell_type": "markdown",
   "metadata": {
    "slideshow": {
     "slide_type": "subslide"
    }
   },
   "source": [
    "## Key Takeaways\n",
    "\n",
    "* return: **GOOD**\n",
    "* volatility: **BAD**\n",
    "* sharpe ratio = risk-adjuseted return: **(return / volatility) | higher is better**\n",
    "* do: **open a brokerage account and put a little in every month**\n",
    "* do: **invest in Index Funds/ETFS**\n",
    "* do: **DIVERSIFY (Index Funds do this automatically)**\n",
    "* do not: **invest in hedge funds or mutual funds**\n"
   ]
  },
  {
   "cell_type": "markdown",
   "metadata": {
    "slideshow": {
     "slide_type": "slide"
    }
   },
   "source": [
    "# Resources\n",
    "\n",
    "open a brokerage account: https://www.schwab.com/public/schwab/client_home\n",
    "\n",
    "\n",
    "intro to investing: https://www.thebalance.com/investing-for-beginners-4074004\n",
    "\n",
    "\n",
    "intro to investing: https://www.investopedia.com/articles/basics/11/3-s-simple-investing.asp\n",
    "\n",
    "\n",
    "book on fundamental analysis:https://www.amazon.com/Intelligent-Investor-Definitive-Investing-Essentials/dp/0060555661\n",
    "\n",
    "\n",
    "book on quant investing: https://www.amazon.com/Active-Equity-Management-Xinfeng-Zhou/dp/0692297774/ref=sr_1_1?dchild=1&keywords=active+equity+management&qid=1586067607&s=books&sr=1-1\n",
    "\n",
    "\n"
   ]
  },
  {
   "cell_type": "markdown",
   "metadata": {
    "slideshow": {
     "slide_type": "slide"
    }
   },
   "source": [
    "## US Market Performace Since 1993\n",
    "![](spy1.png)"
   ]
  },
  {
   "cell_type": "markdown",
   "metadata": {
    "slideshow": {
     "slide_type": "subslide"
    }
   },
   "source": [
    "![](spy2.png)"
   ]
  },
  {
   "cell_type": "markdown",
   "metadata": {
    "slideshow": {
     "slide_type": "subslide"
    }
   },
   "source": [
    "![](spy3.png)"
   ]
  },
  {
   "cell_type": "markdown",
   "metadata": {
    "slideshow": {
     "slide_type": "subslide"
    }
   },
   "source": [
    "## DISCLAIMER\n",
    "\n",
    "## THIS IS NOT INVESTMENT ADVICE\n",
    "\n",
    "## THE PERSON PRESENTING IS NOT QUALIFIED OR LICENSED TO LEGALLY GIVE INVESTMENT ADVICE, AND THE INFORMATION CONTAINED HERE SHOULD NOT BE CONSTRUED AS SUCH\n",
    "\n",
    "## THIS INFORMATION IS STRICTLY FOR EDUCATIONALY PURPOSES ONLY"
   ]
  },
  {
   "cell_type": "code",
   "execution_count": null,
   "metadata": {},
   "outputs": [],
   "source": []
  }
 ],
 "metadata": {
  "kernelspec": {
   "display_name": "Python [conda env:root]",
   "language": "python",
   "name": "conda-root-py"
  },
  "language_info": {
   "codemirror_mode": {
    "name": "ipython",
    "version": 3
   },
   "file_extension": ".py",
   "mimetype": "text/x-python",
   "name": "python",
   "nbconvert_exporter": "python",
   "pygments_lexer": "ipython3",
   "version": "3.7.3"
  }
 },
 "nbformat": 4,
 "nbformat_minor": 4
}
